{
 "metadata": {
  "kernelspec": {
   "display_name": "Streamlit Notebook",
   "name": "streamlit"
  },
  "lastEditStatus": {
   "notebookId": "og2vammedjw4tgv7fjvr",
   "authorId": "122345753749",
   "authorName": "KDAGLIA",
   "authorEmail": "karan_daglia@trimble.com",
   "sessionId": "521ae141-04ca-4f62-8849-801008942988",
   "lastEditTime": 1741956353154
  }
 },
 "nbformat_minor": 5,
 "nbformat": 4,
 "cells": [
  {
   "cell_type": "code",
   "id": "a13b73dc-3d08-48b6-8510-2f2bbe36f874",
   "metadata": {
    "language": "python",
    "name": "cell1",
    "collapsed": false,
    "codeCollapsed": false
   },
   "outputs": [],
   "source": "import os\nos.listdir()",
   "execution_count": null
  },
  {
   "cell_type": "code",
   "id": "d845e25a-db71-4231-8212-4286f5ca8ec2",
   "metadata": {
    "language": "python",
    "name": "cell5",
    "codeCollapsed": false
   },
   "outputs": [],
   "source": "print(os.getcwd())",
   "execution_count": null
  },
  {
   "cell_type": "code",
   "id": "648b48e0-b056-4ffa-b2dc-b3649ede8983",
   "metadata": {
    "language": "python",
    "name": "cell2",
    "codeCollapsed": false,
    "collapsed": false
   },
   "outputs": [],
   "source": "sql_files = [f for f in os.listdir(\"MONITOR_SQL\") if f.endswith('.sql')]\nprint(sql_files)",
   "execution_count": null
  },
  {
   "cell_type": "code",
   "id": "c9d2a8b2-ec01-4df1-b528-54db6c1d9ad7",
   "metadata": {
    "language": "python",
    "name": "cell7",
    "collapsed": false,
    "codeCollapsed": false
   },
   "outputs": [],
   "source": "from snowflake.snowpark.context import get_active_session\nsession = get_active_session()",
   "execution_count": null
  },
  {
   "cell_type": "code",
   "id": "421f663c-7b9d-4962-aa56-745df2929bbe",
   "metadata": {
    "language": "python",
    "name": "cell4",
    "codeCollapsed": false,
    "collapsed": false
   },
   "outputs": [],
   "source": "import os\nimport time\nimport uuid\nimport concurrent.futures\n\n# List all files in the MONITOR_SQL directory\nsql_files = [f for f in os.listdir(\"MONITOR_SQL\") if f.endswith('.sql')]\n\n# Print the SQL files found\nprint(f\"Found {len(sql_files)} SQL files:\")\nfor file in sql_files:\n    print(f\" - {file}\")\n\n# Execute all SQL files automatically\nfor i, sql_file in enumerate(sql_files):\n    file_path = os.path.join(\"MONITOR_SQL\", sql_file)\n    \n    print(f\"\\nPreparing to execute {sql_file} ({i+1}/{len(sql_files)})...\")\n    # print(f\"Waiting 5 seconds before execution. Press 'Stop' in the notebook to cancel.\")\n    \n    # Add a delay to allow user to stop execution if needed\n    for countdown in range(1, 0, -1):\n        # print(f\"Executing in {countdown}...\", end=\"\\r\")\n        time.sleep(1)\n    \n    # print(f\"\\nExecuting {sql_file}...\")\n    \n    # Read the SQL content\n    with open(file_path, 'r') as f:\n        sql_content = f.read()\n    \n    start_time = time.time()\n    try:\n        result = session.sql(sql_content).collect()\n        record_count = len(result)\n        execution_time = time.time() - start_time\n        print(f\"Results of {sql_file}: {record_count} records in {execution_time:.2f} seconds\")\n    except Exception as e:\n        print(f\"Error executing {sql_file}: {str(e)}\")\n\nprint(\"SQL execution process finished.\")",
   "execution_count": null
  },
  {
   "cell_type": "code",
   "id": "b8cc8a10-af81-4c87-83c2-81f3e492bd57",
   "metadata": {
    "language": "python",
    "name": "cell8"
   },
   "outputs": [],
   "source": "",
   "execution_count": null
  }
 ]
}